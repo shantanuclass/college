{
 "cells": [
  {
   "cell_type": "markdown",
   "id": "b59a1f17",
   "metadata": {},
   "source": [
    "## In this module we will learn about the following\n",
    "    1.) Creating Strings\n",
    "    2.) Printing Strings\n",
    "    3.) String Indexing and Slicing\n",
    "    4.) String Properties\n",
    "    5.) String Methods\n",
    "    6.) Print Formattingn"
   ]
  },
  {
   "cell_type": "code",
   "execution_count": 6,
   "id": "ce989086",
   "metadata": {},
   "outputs": [
    {
     "data": {
      "text/plain": [
       "'single'"
      ]
     },
     "execution_count": 6,
     "metadata": {},
     "output_type": "execute_result"
    }
   ],
   "source": [
    "'single'"
   ]
  },
  {
   "cell_type": "code",
   "execution_count": 7,
   "id": "f1ead554",
   "metadata": {},
   "outputs": [
    {
     "data": {
      "text/plain": [
       "'multiple words can also be used'"
      ]
     },
     "execution_count": 7,
     "metadata": {},
     "output_type": "execute_result"
    }
   ],
   "source": [
    "'multiple words can also be used'"
   ]
  },
  {
   "cell_type": "code",
   "execution_count": 8,
   "id": "47ac207e",
   "metadata": {},
   "outputs": [
    {
     "data": {
      "text/plain": [
       "'Python is lenient language, we can use double quotes too'"
      ]
     },
     "execution_count": 8,
     "metadata": {},
     "output_type": "execute_result"
    }
   ],
   "source": [
    "\"Python is lenient language, we can use double quotes too\""
   ]
  },
  {
   "cell_type": "code",
   "execution_count": 9,
   "id": "c313fd68",
   "metadata": {},
   "outputs": [
    {
     "data": {
      "text/plain": [
       "\"this are shantanu's Notes\""
      ]
     },
     "execution_count": 9,
     "metadata": {},
     "output_type": "execute_result"
    }
   ],
   "source": [
    "\"this are shantanu's Notes\""
   ]
  },
  {
   "cell_type": "markdown",
   "id": "15d3df67",
   "metadata": {},
   "source": [
    "You cannot use double quote in sentence once you used it to create your list. Hence make sure that you use the alternate quote to the one you want to use in a sentence."
   ]
  },
  {
   "cell_type": "markdown",
   "id": "8887d47a",
   "metadata": {},
   "source": [
    "# Printing the string"
   ]
  },
  {
   "cell_type": "code",
   "execution_count": 10,
   "id": "ff05fe46",
   "metadata": {},
   "outputs": [
    {
     "data": {
      "text/plain": [
       "'here in jupyter notebook you can print the string without any specific function'"
      ]
     },
     "execution_count": 10,
     "metadata": {},
     "output_type": "execute_result"
    }
   ],
   "source": [
    "'here in jupyter notebook you can print the string without any specific function'"
   ]
  },
  {
   "cell_type": "code",
   "execution_count": 11,
   "id": "1b60c08e",
   "metadata": {},
   "outputs": [],
   "source": [
    "# but while printing the statement in .py file you must use the print function"
   ]
  },
  {
   "cell_type": "code",
   "execution_count": 12,
   "id": "3cf8f061",
   "metadata": {},
   "outputs": [
    {
     "name": "stdout",
     "output_type": "stream",
     "text": [
      "This is the function to print\n"
     ]
    }
   ],
   "source": [
    "print(\"This is the function to print\")"
   ]
  },
  {
   "cell_type": "markdown",
   "id": "342f72fd",
   "metadata": {},
   "source": [
    "if you observer carefully the print function did not return the quotes where as the way in which jupyter notebook was printing is by showing quotes."
   ]
  },
  {
   "cell_type": "markdown",
   "id": "a67a14c9",
   "metadata": {},
   "source": [
    "# String Basics"
   ]
  },
  {
   "cell_type": "code",
   "execution_count": 13,
   "id": "95697554",
   "metadata": {},
   "outputs": [
    {
     "data": {
      "text/plain": [
       "11"
      ]
     },
     "execution_count": 13,
     "metadata": {},
     "output_type": "execute_result"
    }
   ],
   "source": [
    "len('hello world')"
   ]
  },
  {
   "cell_type": "markdown",
   "id": "5b3aa5f2",
   "metadata": {},
   "source": [
    "# String indexing"
   ]
  },
  {
   "cell_type": "code",
   "execution_count": 14,
   "id": "1c314df4",
   "metadata": {},
   "outputs": [],
   "source": [
    "s = 'Hello World'"
   ]
  },
  {
   "cell_type": "code",
   "execution_count": 16,
   "id": "c8583b88",
   "metadata": {},
   "outputs": [
    {
     "data": {
      "text/plain": [
       "'Hello World'"
      ]
     },
     "execution_count": 16,
     "metadata": {},
     "output_type": "execute_result"
    }
   ],
   "source": [
    "s"
   ]
  },
  {
   "cell_type": "code",
   "execution_count": 17,
   "id": "adc01efd",
   "metadata": {},
   "outputs": [
    {
     "data": {
      "text/plain": [
       "'H'"
      ]
     },
     "execution_count": 17,
     "metadata": {},
     "output_type": "execute_result"
    }
   ],
   "source": [
    "s[0]"
   ]
  },
  {
   "cell_type": "code",
   "execution_count": 18,
   "id": "02dd85b8",
   "metadata": {},
   "outputs": [
    {
     "data": {
      "text/plain": [
       "'e'"
      ]
     },
     "execution_count": 18,
     "metadata": {},
     "output_type": "execute_result"
    }
   ],
   "source": [
    "s[1]"
   ]
  },
  {
   "cell_type": "code",
   "execution_count": 19,
   "id": "a0f8d0ef",
   "metadata": {},
   "outputs": [
    {
     "data": {
      "text/plain": [
       "'l'"
      ]
     },
     "execution_count": 19,
     "metadata": {},
     "output_type": "execute_result"
    }
   ],
   "source": [
    "s[2]"
   ]
  },
  {
   "cell_type": "code",
   "execution_count": 20,
   "id": "92a4a35e",
   "metadata": {},
   "outputs": [
    {
     "data": {
      "text/plain": [
       "'ello World'"
      ]
     },
     "execution_count": 20,
     "metadata": {},
     "output_type": "execute_result"
    }
   ],
   "source": [
    "s[1:]"
   ]
  },
  {
   "cell_type": "code",
   "execution_count": 28,
   "id": "459dd61c",
   "metadata": {},
   "outputs": [],
   "source": [
    "# The general format of sclicing is to [start index : end index(excluding) : step]"
   ]
  },
  {
   "cell_type": "markdown",
   "id": "8057e431",
   "metadata": {},
   "source": [
    "If either the starting or the ending index is not specified then it by defaults assumes the extreme ends."
   ]
  },
  {
   "cell_type": "code",
   "execution_count": 23,
   "id": "7bf9b9bb",
   "metadata": {},
   "outputs": [
    {
     "data": {
      "text/plain": [
       "'d'"
      ]
     },
     "execution_count": 23,
     "metadata": {},
     "output_type": "execute_result"
    }
   ],
   "source": [
    "# this is how string is reverse indexed\n",
    "# the last element of string is denoted by -1\n",
    "s[-1]"
   ]
  },
  {
   "cell_type": "code",
   "execution_count": 24,
   "id": "5035294b",
   "metadata": {},
   "outputs": [
    {
     "data": {
      "text/plain": [
       "'l'"
      ]
     },
     "execution_count": 24,
     "metadata": {},
     "output_type": "execute_result"
    }
   ],
   "source": [
    "s[-2]"
   ]
  },
  {
   "cell_type": "code",
   "execution_count": 25,
   "id": "1e06cc3b",
   "metadata": {},
   "outputs": [
    {
     "data": {
      "text/plain": [
       "'dlroW olleH'"
      ]
     },
     "execution_count": 25,
     "metadata": {},
     "output_type": "execute_result"
    }
   ],
   "source": [
    "# and to completely print the reverse string\n",
    "s[::-1]"
   ]
  },
  {
   "cell_type": "code",
   "execution_count": 29,
   "id": "db8abd75",
   "metadata": {},
   "outputs": [
    {
     "data": {
      "text/plain": [
       "'el'"
      ]
     },
     "execution_count": 29,
     "metadata": {},
     "output_type": "execute_result"
    }
   ],
   "source": [
    "# the following statement is equivalent of saying slice index from index 1 to 5 and display it in step of 2\n",
    "s[1:5:2]"
   ]
  },
  {
   "cell_type": "markdown",
   "id": "e84f5265",
   "metadata": {},
   "source": [
    "# Concatenate String"
   ]
  },
  {
   "cell_type": "code",
   "execution_count": 30,
   "id": "bbba579f",
   "metadata": {},
   "outputs": [
    {
     "data": {
      "text/plain": [
       "'Hello WorldJoin me with S'"
      ]
     },
     "execution_count": 30,
     "metadata": {},
     "output_type": "execute_result"
    }
   ],
   "source": [
    "s + 'Join me with S'"
   ]
  },
  {
   "cell_type": "code",
   "execution_count": 32,
   "id": "80e4e859",
   "metadata": {},
   "outputs": [
    {
     "data": {
      "text/plain": [
       "'Hello WorldHello WorldHello WorldHello WorldHello WorldHello WorldHello WorldHello WorldHello WorldHello World'"
      ]
     },
     "execution_count": 32,
     "metadata": {},
     "output_type": "execute_result"
    }
   ],
   "source": [
    "# such absurd syntax can also be used in python to get the repeated something.\n",
    "'z' * 10"
   ]
  },
  {
   "cell_type": "markdown",
   "id": "981b09dd",
   "metadata": {},
   "source": [
    "# Built-In string methods"
   ]
  },
  {
   "cell_type": "code",
   "execution_count": 33,
   "id": "da3a4ae4",
   "metadata": {},
   "outputs": [
    {
     "data": {
      "text/plain": [
       "'HELLO WORLD'"
      ]
     },
     "execution_count": 33,
     "metadata": {},
     "output_type": "execute_result"
    }
   ],
   "source": [
    "# print the string in upper\n",
    "s.upper()"
   ]
  },
  {
   "cell_type": "code",
   "execution_count": 35,
   "id": "4eb2d843",
   "metadata": {},
   "outputs": [
    {
     "data": {
      "text/plain": [
       "'i will get lowered now'"
      ]
     },
     "execution_count": 35,
     "metadata": {},
     "output_type": "execute_result"
    }
   ],
   "source": [
    "# print the string in lower\n",
    "upper_string = 'I WILL GET LOWERED NOW'\n",
    "upper_string.lower()"
   ]
  },
  {
   "cell_type": "code",
   "execution_count": 37,
   "id": "bdf9b3d1",
   "metadata": {},
   "outputs": [
    {
     "data": {
      "text/plain": [
       "'I WILL GET LOWERED NOW'"
      ]
     },
     "execution_count": 37,
     "metadata": {},
     "output_type": "execute_result"
    }
   ],
   "source": [
    "upper_string"
   ]
  },
  {
   "cell_type": "markdown",
   "id": "742ca5db",
   "metadata": {},
   "source": [
    "Observe here that the upper_string is not changed, as the .uppper method returns a value and does not assign it back to the variable."
   ]
  },
  {
   "cell_type": "markdown",
   "id": "4abf13df",
   "metadata": {},
   "source": [
    "# String Formatting"
   ]
  },
  {
   "cell_type": "markdown",
   "id": "2981f8cb",
   "metadata": {},
   "source": [
    "## Formatting with placeholders"
   ]
  },
  {
   "cell_type": "code",
   "execution_count": 38,
   "id": "853b7c0f",
   "metadata": {},
   "outputs": [
    {
     "name": "stdout",
     "output_type": "stream",
     "text": [
      "I'm going to inject something here.\n"
     ]
    }
   ],
   "source": [
    "print(\"I'm going to inject %s here.\" %'something')"
   ]
  },
  {
   "cell_type": "markdown",
   "id": "ab5eb661",
   "metadata": {},
   "source": [
    "multiple items also can be passed here."
   ]
  },
  {
   "cell_type": "code",
   "execution_count": 39,
   "id": "5d4369ba",
   "metadata": {},
   "outputs": [
    {
     "name": "stdout",
     "output_type": "stream",
     "text": [
      "I'm going to inject some text here, and more text here.\n"
     ]
    }
   ],
   "source": [
    "print(\"I'm going to inject %s text here, and %s text here.\" %('some','more'))"
   ]
  },
  {
   "cell_type": "code",
   "execution_count": 44,
   "id": "5d9ffc41",
   "metadata": {},
   "outputs": [
    {
     "name": "stdout",
     "output_type": "stream",
     "text": [
      "shubham and pranil are good friends\n"
     ]
    }
   ],
   "source": [
    "# this method can also be used to print variables\n",
    "x = 'shubham'\n",
    "y = 'pranil'\n",
    "\n",
    "print(\"%s and %s are good friends\" %(x , y))"
   ]
  },
  {
   "cell_type": "markdown",
   "id": "1961de61",
   "metadata": {},
   "source": [
    "your typical \\n for new line and \\t for tab also work with pythons print function"
   ]
  },
  {
   "cell_type": "markdown",
   "id": "a9e4e2cf",
   "metadata": {},
   "source": [
    "## Formatting with .format() method"
   ]
  },
  {
   "cell_type": "code",
   "execution_count": 46,
   "id": "3f097ca4",
   "metadata": {},
   "outputs": [
    {
     "name": "stdout",
     "output_type": "stream",
     "text": [
      "mai same kaam karta hu upar wale jaisa\n"
     ]
    }
   ],
   "source": [
    "p = \"upar wale jaisa\"\n",
    "print(\"mai same kaam karta hu {}\".format(p))"
   ]
  },
  {
   "cell_type": "code",
   "execution_count": 59,
   "id": "dbfca9c9",
   "metadata": {},
   "outputs": [
    {
     "name": "stdout",
     "output_type": "stream",
     "text": [
      "acha CGPA lao nahi toh barbad hoge\n"
     ]
    }
   ],
   "source": [
    "pehela = 'CGPA'\n",
    "dusra = 'barbad'\n",
    "\n",
    "print('acha {0} lao nahi toh {1} hoge'.format(pehela , dusra))"
   ]
  },
  {
   "cell_type": "markdown",
   "id": "5d7aa47c",
   "metadata": {},
   "source": [
    "## Formatting using F strings"
   ]
  },
  {
   "cell_type": "code",
   "execution_count": 60,
   "id": "6a668013",
   "metadata": {},
   "outputs": [
    {
     "name": "stdout",
     "output_type": "stream",
     "text": [
      "He said his name is Fred.\n"
     ]
    }
   ],
   "source": [
    "name = 'Fred'\n",
    "\n",
    "print(f\"He said his name is {name}.\")"
   ]
  },
  {
   "cell_type": "code",
   "execution_count": null,
   "id": "b76ef8f1",
   "metadata": {},
   "outputs": [],
   "source": []
  }
 ],
 "metadata": {
  "kernelspec": {
   "display_name": "Python 3 (ipykernel)",
   "language": "python",
   "name": "python3"
  },
  "language_info": {
   "codemirror_mode": {
    "name": "ipython",
    "version": 3
   },
   "file_extension": ".py",
   "mimetype": "text/x-python",
   "name": "python",
   "nbconvert_exporter": "python",
   "pygments_lexer": "ipython3",
   "version": "3.11.5"
  }
 },
 "nbformat": 4,
 "nbformat_minor": 5
}
