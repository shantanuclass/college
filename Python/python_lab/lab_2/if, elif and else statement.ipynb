{
 "cells": [
  {
   "cell_type": "code",
   "execution_count": 1,
   "id": "6d34733c",
   "metadata": {},
   "outputs": [
    {
     "name": "stdout",
     "output_type": "stream",
     "text": [
      "I will execute only if the provided condition is True\n"
     ]
    }
   ],
   "source": [
    "if True:\n",
    "    print(\"I will execute only if the provided condition is True\")"
   ]
  },
  {
   "cell_type": "code",
   "execution_count": 3,
   "id": "3f5d5084",
   "metadata": {},
   "outputs": [],
   "source": [
    "# if the provided condition is False then I wont get executed.\n",
    "if False:\n",
    "    print(\"I will not execute since the statement is false.\")"
   ]
  },
  {
   "cell_type": "code",
   "execution_count": 6,
   "id": "52dbd119",
   "metadata": {},
   "outputs": [
    {
     "name": "stdout",
     "output_type": "stream",
     "text": [
      "I am somewhere else\n"
     ]
    }
   ],
   "source": [
    "location = 'else'\n",
    "\n",
    "if location == 'bank':\n",
    "    print('I am in the bank')\n",
    "elif location == 'Grocery':\n",
    "    print('I am in the grocery')\n",
    "else:\n",
    "    print(\"I am somewhere else\")"
   ]
  },
  {
   "cell_type": "code",
   "execution_count": null,
   "id": "2595027a",
   "metadata": {},
   "outputs": [],
   "source": []
  }
 ],
 "metadata": {
  "kernelspec": {
   "display_name": "Python 3 (ipykernel)",
   "language": "python",
   "name": "python3"
  },
  "language_info": {
   "codemirror_mode": {
    "name": "ipython",
    "version": 3
   },
   "file_extension": ".py",
   "mimetype": "text/x-python",
   "name": "python",
   "nbconvert_exporter": "python",
   "pygments_lexer": "ipython3",
   "version": "3.11.5"
  }
 },
 "nbformat": 4,
 "nbformat_minor": 5
}
