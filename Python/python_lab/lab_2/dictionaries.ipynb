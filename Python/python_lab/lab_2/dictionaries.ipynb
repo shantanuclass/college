{
 "cells": [
  {
   "cell_type": "code",
   "execution_count": 1,
   "id": "0165c1b3",
   "metadata": {},
   "outputs": [],
   "source": [
    "# define dictionary"
   ]
  },
  {
   "cell_type": "code",
   "execution_count": 2,
   "id": "d9ef1182",
   "metadata": {},
   "outputs": [],
   "source": [
    "# call key"
   ]
  },
  {
   "cell_type": "code",
   "execution_count": 3,
   "id": "3e62d40b",
   "metadata": {},
   "outputs": [],
   "source": [
    "# show that dictionaries can hold multiple data types"
   ]
  },
  {
   "cell_type": "code",
   "execution_count": 4,
   "id": "7b3eb93c",
   "metadata": {},
   "outputs": [],
   "source": [
    "# show reassignment in dictionary"
   ]
  },
  {
   "cell_type": "code",
   "execution_count": 5,
   "id": "dbf28f6f",
   "metadata": {},
   "outputs": [],
   "source": [
    "# nested dictionaries"
   ]
  },
  {
   "cell_type": "code",
   "execution_count": 6,
   "id": "39511795",
   "metadata": {},
   "outputs": [],
   "source": [
    "# .key .value .item method"
   ]
  },
  {
   "cell_type": "code",
   "execution_count": null,
   "id": "a602253a",
   "metadata": {},
   "outputs": [],
   "source": []
  }
 ],
 "metadata": {
  "kernelspec": {
   "display_name": "Python 3 (ipykernel)",
   "language": "python",
   "name": "python3"
  },
  "language_info": {
   "codemirror_mode": {
    "name": "ipython",
    "version": 3
   },
   "file_extension": ".py",
   "mimetype": "text/x-python",
   "name": "python",
   "nbconvert_exporter": "python",
   "pygments_lexer": "ipython3",
   "version": "3.11.5"
  }
 },
 "nbformat": 4,
 "nbformat_minor": 5
}
