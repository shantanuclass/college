{
 "cells": [
  {
   "cell_type": "code",
   "execution_count": 1,
   "id": "c88cd303",
   "metadata": {},
   "outputs": [],
   "source": [
    "# define set"
   ]
  },
  {
   "cell_type": "code",
   "execution_count": 2,
   "id": "f37e08c2",
   "metadata": {},
   "outputs": [],
   "source": [
    "# .add metiod instead of append"
   ]
  },
  {
   "cell_type": "code",
   "execution_count": 3,
   "id": "52a57ab5",
   "metadata": {},
   "outputs": [],
   "source": [
    "# show that set takes only unique values"
   ]
  },
  {
   "cell_type": "code",
   "execution_count": null,
   "id": "24ce3d3a",
   "metadata": {},
   "outputs": [],
   "source": []
  },
  {
   "cell_type": "code",
   "execution_count": null,
   "id": "166220eb",
   "metadata": {},
   "outputs": [],
   "source": []
  },
  {
   "cell_type": "code",
   "execution_count": 4,
   "id": "fff99284",
   "metadata": {},
   "outputs": [],
   "source": [
    "# booleans"
   ]
  },
  {
   "cell_type": "code",
   "execution_count": 5,
   "id": "421f95ca",
   "metadata": {},
   "outputs": [],
   "source": [
    "# True"
   ]
  },
  {
   "cell_type": "code",
   "execution_count": 7,
   "id": "efec6d8f",
   "metadata": {},
   "outputs": [],
   "source": [
    "# False"
   ]
  },
  {
   "cell_type": "code",
   "execution_count": 8,
   "id": "4dbd653d",
   "metadata": {},
   "outputs": [],
   "source": [
    "# None placeholder"
   ]
  },
  {
   "cell_type": "code",
   "execution_count": null,
   "id": "9d3cc1fe",
   "metadata": {},
   "outputs": [],
   "source": []
  }
 ],
 "metadata": {
  "kernelspec": {
   "display_name": "Python 3 (ipykernel)",
   "language": "python",
   "name": "python3"
  },
  "language_info": {
   "codemirror_mode": {
    "name": "ipython",
    "version": 3
   },
   "file_extension": ".py",
   "mimetype": "text/x-python",
   "name": "python",
   "nbconvert_exporter": "python",
   "pygments_lexer": "ipython3",
   "version": "3.11.5"
  }
 },
 "nbformat": 4,
 "nbformat_minor": 5
}
