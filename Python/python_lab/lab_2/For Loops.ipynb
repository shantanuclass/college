{
 "cells": [
  {
   "cell_type": "markdown",
   "id": "c7862933",
   "metadata": {},
   "source": [
    "# For loops in Python\n",
    "\n",
    "### Note that in python we can iterate through anythin unlike other programing languages."
   ]
  },
  {
   "cell_type": "markdown",
   "id": "910bec7a",
   "metadata": {},
   "source": [
    "## Iterating Through List"
   ]
  },
  {
   "cell_type": "code",
   "execution_count": 1,
   "id": "5860e2d5",
   "metadata": {},
   "outputs": [],
   "source": [
    "my_list = [1,2,3,4,5,'string one' , 'string 2']"
   ]
  },
  {
   "cell_type": "code",
   "execution_count": 2,
   "id": "d3776540",
   "metadata": {},
   "outputs": [
    {
     "name": "stdout",
     "output_type": "stream",
     "text": [
      "1\n",
      "2\n",
      "3\n",
      "4\n",
      "5\n",
      "string one\n",
      "string 2\n"
     ]
    }
   ],
   "source": [
    "for ele in my_list:\n",
    "    print(ele)"
   ]
  },
  {
   "cell_type": "code",
   "execution_count": 3,
   "id": "086734a7",
   "metadata": {},
   "outputs": [
    {
     "name": "stdout",
     "output_type": "stream",
     "text": [
      "1\n",
      "2\n",
      "3\n",
      "4\n",
      "5\n"
     ]
    }
   ],
   "source": [
    "# Now lets print the element only if they are integers\n",
    "for bongo in my_list:\n",
    "    if type(bongo) == int:\n",
    "        print(bongo)"
   ]
  },
  {
   "cell_type": "markdown",
   "id": "ae7d80db",
   "metadata": {},
   "source": [
    "## Example 2\n",
    "\n",
    "Another common idea used during a for loop is keeping some sort of tally"
   ]
  },
  {
   "cell_type": "code",
   "execution_count": 5,
   "id": "c1cb6ed4",
   "metadata": {},
   "outputs": [
    {
     "name": "stdout",
     "output_type": "stream",
     "text": [
      "Pranil's roll no. is '36\n",
      "Shantanu's roll no. is '62\n",
      "Piyush's roll no. is '43\n",
      "taran's roll no. is '64\n"
     ]
    }
   ],
   "source": [
    "name_list = ['Pranil' , 'Shantanu' , 'Piyush' , 'taran']\n",
    "roll_no = ['36' , '62' , '43' , '64']\n",
    " \n",
    "index = 0\n",
    "\n",
    "for ele in name_list:\n",
    "    print(f\"{ele}'s roll no. is '{roll_no[index]}\")\n",
    "    index += 1"
   ]
  },
  {
   "cell_type": "markdown",
   "id": "39c9cfa2",
   "metadata": {},
   "source": [
    "## Iterating through string"
   ]
  },
  {
   "cell_type": "code",
   "execution_count": 7,
   "id": "6f6051b6",
   "metadata": {},
   "outputs": [
    {
     "name": "stdout",
     "output_type": "stream",
     "text": [
      "S\n",
      "o\n",
      "m\n",
      "e\n",
      " \n",
      "r\n",
      "a\n",
      "n\n",
      "d\n",
      "o\n",
      "m\n",
      " \n",
      "s\n",
      "t\n",
      "r\n",
      "i\n",
      "n\n",
      "g\n"
     ]
    }
   ],
   "source": [
    "a = 'Some random string'\n",
    "\n",
    "for letter in a:\n",
    "    print(letter)"
   ]
  },
  {
   "cell_type": "markdown",
   "id": "8eb6e5b9",
   "metadata": {},
   "source": [
    "# Iterating through Tuples"
   ]
  },
  {
   "cell_type": "code",
   "execution_count": 8,
   "id": "09ebce1c",
   "metadata": {},
   "outputs": [
    {
     "name": "stdout",
     "output_type": "stream",
     "text": [
      "4\n",
      "5\n",
      "7\n",
      "8\n"
     ]
    }
   ],
   "source": [
    "tup = (4,5,7,8)\n",
    "for ele in tup:\n",
    "    print(ele)"
   ]
  },
  {
   "cell_type": "code",
   "execution_count": 9,
   "id": "e8737d76",
   "metadata": {},
   "outputs": [
    {
     "name": "stdout",
     "output_type": "stream",
     "text": [
      "(2, 4)\n",
      "(6, 8)\n",
      "(10, 12)\n"
     ]
    }
   ],
   "source": [
    "# tuples have very unique feature to loop through\n",
    "\n",
    "list2 = [(2,4),(6,8),(10,12)]\n",
    "for tup in list2:\n",
    "    print(tup)"
   ]
  },
  {
   "cell_type": "code",
   "execution_count": 11,
   "id": "68e4d845",
   "metadata": {},
   "outputs": [
    {
     "name": "stdout",
     "output_type": "stream",
     "text": [
      "6\n",
      "14\n",
      "22\n"
     ]
    }
   ],
   "source": [
    "for (t1,t2) in list2:\n",
    "    print(t1 + t2)"
   ]
  },
  {
   "cell_type": "markdown",
   "id": "789ce5e5",
   "metadata": {},
   "source": [
    "# Iterating through dictionary"
   ]
  },
  {
   "cell_type": "code",
   "execution_count": 13,
   "id": "d7fdd0fb",
   "metadata": {},
   "outputs": [
    {
     "name": "stdout",
     "output_type": "stream",
     "text": [
      "k1\n",
      "k2\n",
      "k3\n",
      "k4\n"
     ]
    }
   ],
   "source": [
    "d1 = {\n",
    "    'k1' : 1,\n",
    "    'k2' : 2,\n",
    "    'k3' : 3,\n",
    "    'k4' : 4\n",
    "}\n",
    "\n",
    "# by default the keys are assigned to the variable in dictionary loop\n",
    "\n",
    "for item in d1:\n",
    "    print(item)"
   ]
  },
  {
   "cell_type": "code",
   "execution_count": 14,
   "id": "6eac85c0",
   "metadata": {},
   "outputs": [
    {
     "name": "stdout",
     "output_type": "stream",
     "text": [
      "1\n",
      "2\n",
      "3\n",
      "4\n"
     ]
    }
   ],
   "source": [
    "# this is how you can print Value\n",
    "for item in d1:\n",
    "    print(d1[item])"
   ]
  },
  {
   "cell_type": "code",
   "execution_count": 17,
   "id": "6d11706d",
   "metadata": {},
   "outputs": [
    {
     "data": {
      "text/plain": [
       "dict_items([('k1', 1), ('k2', 2), ('k3', 3), ('k4', 4)])"
      ]
     },
     "execution_count": 17,
     "metadata": {},
     "output_type": "execute_result"
    }
   ],
   "source": [
    "d1.items()\n",
    "# note that this function forms the list of tuples so the above method can be used"
   ]
  },
  {
   "cell_type": "code",
   "execution_count": null,
   "id": "3483daf5",
   "metadata": {},
   "outputs": [],
   "source": []
  }
 ],
 "metadata": {
  "kernelspec": {
   "display_name": "Python 3 (ipykernel)",
   "language": "python",
   "name": "python3"
  },
  "language_info": {
   "codemirror_mode": {
    "name": "ipython",
    "version": 3
   },
   "file_extension": ".py",
   "mimetype": "text/x-python",
   "name": "python",
   "nbconvert_exporter": "python",
   "pygments_lexer": "ipython3",
   "version": "3.11.5"
  }
 },
 "nbformat": 4,
 "nbformat_minor": 5
}
