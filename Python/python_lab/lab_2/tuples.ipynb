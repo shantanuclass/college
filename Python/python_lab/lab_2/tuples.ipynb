{
 "cells": [
  {
   "cell_type": "code",
   "execution_count": 1,
   "id": "8d766123",
   "metadata": {},
   "outputs": [],
   "source": [
    "# create tuple"
   ]
  },
  {
   "cell_type": "code",
   "execution_count": 2,
   "id": "1b067d7e",
   "metadata": {},
   "outputs": [],
   "source": [
    "# length of tuple"
   ]
  },
  {
   "cell_type": "code",
   "execution_count": 4,
   "id": "42b54e66",
   "metadata": {},
   "outputs": [],
   "source": [
    "# multiple data types can be stored"
   ]
  },
  {
   "cell_type": "code",
   "execution_count": 5,
   "id": "61644bcc",
   "metadata": {},
   "outputs": [],
   "source": [
    "# same indexing sclicing as in list"
   ]
  },
  {
   "cell_type": "code",
   "execution_count": 6,
   "id": "b6f3a5c8",
   "metadata": {},
   "outputs": [],
   "source": [
    "# tuples are immutable"
   ]
  },
  {
   "cell_type": "code",
   "execution_count": 7,
   "id": "19586622",
   "metadata": {},
   "outputs": [],
   "source": [
    "# does not have append"
   ]
  },
  {
   "cell_type": "code",
   "execution_count": null,
   "id": "85982a59",
   "metadata": {},
   "outputs": [],
   "source": []
  }
 ],
 "metadata": {
  "kernelspec": {
   "display_name": "Python 3 (ipykernel)",
   "language": "python",
   "name": "python3"
  },
  "language_info": {
   "codemirror_mode": {
    "name": "ipython",
    "version": 3
   },
   "file_extension": ".py",
   "mimetype": "text/x-python",
   "name": "python",
   "nbconvert_exporter": "python",
   "pygments_lexer": "ipython3",
   "version": "3.11.5"
  }
 },
 "nbformat": 4,
 "nbformat_minor": 5
}
